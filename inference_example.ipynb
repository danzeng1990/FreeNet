{
 "cells": [
  {
   "cell_type": "code",
   "execution_count": null,
   "id": "910d2163-80fd-42d2-a01a-d06e9c8befa6",
   "metadata": {},
   "outputs": [],
   "source": [
    "import random\n",
    "import cv2\n",
    "import matplotlib.pyplot as plt\n",
    "import numpy as np\n",
    "import torch\n",
    "import torchvision.transforms\n",
    "\n",
    "import train_utils.transforms\n",
    "from models.hrnet import HighResolutionNet\n",
    "import torchvision.transforms as transforms"
   ]
  },
  {
   "cell_type": "code",
   "execution_count": null,
   "id": "618c7944-f20e-4236-9184-85216c731da2",
   "metadata": {},
   "outputs": [],
   "source": [
    "def set_seed(seed):\n",
    "    random.seed(seed)\n",
    "    np.random.seed(seed)\n",
    "    torch.manual_seed(seed)\n",
    "    torch.cuda.manual_seed_all(seed)"
   ]
  },
  {
   "cell_type": "code",
   "execution_count": null,
   "id": "76435558-e9bf-44fa-bf34-52dde0a58750",
   "metadata": {},
   "outputs": [],
   "source": [
    "def inference():\n",
    "    set_seed(2)\n",
    "    img_path = \"test.jpg\"\n",
    "    # Ls / + Lu / +Lf\n",
    "    weights_path = \"saved_weights/ls_lu_lf.pth\"\n",
    "    model = HighResolutionNet(num_joints=21)\n",
    "    weights = torch.load(weights_path)\n",
    "    # model.load_state_dict(weights['model'])\n",
    "    model.load_state_dict(weights)\n",
    "    model.eval()\n",
    "    model.to(\"cuda:0\")\n",
    "\n",
    "    image = cv2.imread(img_path)\n",
    "    image = cv2.cvtColor(image, cv2.COLOR_BGR2RGB)\n",
    "\n",
    "    desired_size = (256, 256)\n",
    "    resized_image = cv2.resize(image, desired_size)\n",
    "\n",
    "    transform = transforms.Compose([\n",
    "        transforms.ToTensor(),\n",
    "        transforms.Normalize(mean=[0.485, 0.456, 0.406], std=[0.229, 0.224, 0.225])\n",
    "    ])\n",
    "    normalized_image = transform(resized_image)\n",
    "\n",
    "    with torch.no_grad():\n",
    "        normalized_image = normalized_image.unsqueeze(0).to(\"cuda:0\")\n",
    "        outputs = model(normalized_image)\n",
    "        coords,confidence = train_utils.transforms.get_max_preds(outputs)\n",
    "        confidence = np.array(confidence.squeeze(0).squeeze(-1).cpu())\n",
    "\n",
    "        mean = [0.485, 0.456, 0.406]\n",
    "        std = [0.229, 0.224, 0.225]\n",
    "        img_tensor = (normalized_image.squeeze(0).cpu() * torch.tensor(std).view(3, 1, 1) + torch.tensor(mean).view(3, 1, 1))\n",
    "        img_tensor = img_tensor.clamp(0,1)\n",
    "        to_pil = torchvision.transforms.ToPILImage()\n",
    "        img_np = to_pil(img_tensor)\n",
    "        source_size = torch.tensor([256, 256])\n",
    "        target_size = torch.tensor([64, 64])\n",
    "        scaled_keypoints_tensor = coords.cpu().squeeze(0) * (source_size.float() / target_size.float())\n",
    "        scaled_keypoints = scaled_keypoints_tensor.int().tolist()\n",
    "        for i,point in enumerate(scaled_keypoints):\n",
    "            x, y = point\n",
    "            if confidence[i] > 0.4:\n",
    "                plt.scatter(x, y, s=100,color='white',edgecolors='black')\n",
    "\n",
    "        plt.imshow(img_np)\n",
    "        plt.axis('off')\n",
    "        plt.show()"
   ]
  },
  {
   "cell_type": "code",
   "execution_count": null,
   "id": "60fe1780-f373-47d7-a792-f0a0cd004a3f",
   "metadata": {},
   "outputs": [],
   "source": [
    "if __name__ == '__main__':\n",
    "    inference()"
   ]
  }
 ],
 "metadata": {
  "kernelspec": {
   "display_name": "Python 3 (ipykernel)",
   "language": "python",
   "name": "python3"
  },
  "language_info": {
   "codemirror_mode": {
    "name": "ipython",
    "version": 3
   },
   "file_extension": ".py",
   "mimetype": "text/x-python",
   "name": "python",
   "nbconvert_exporter": "python",
   "pygments_lexer": "ipython3",
   "version": "3.8.19"
  }
 },
 "nbformat": 4,
 "nbformat_minor": 5
}
